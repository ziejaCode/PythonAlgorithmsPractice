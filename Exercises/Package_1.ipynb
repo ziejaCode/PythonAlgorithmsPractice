{
 "metadata": {
  "language_info": {
   "codemirror_mode": {
    "name": "ipython",
    "version": 3
   },
   "file_extension": ".py",
   "mimetype": "text/x-python",
   "name": "python",
   "nbconvert_exporter": "python",
   "pygments_lexer": "ipython3",
   "version": "3.7.6"
  },
  "orig_nbformat": 2,
  "kernelspec": {
   "name": "python376jvsc74a57bd0ef6158b8f70acb55f14e9e8900390c101c5e76b0b37a2fa3a79ca4e7b97b63bf",
   "display_name": "Python 3.7.6 64-bit ('base': conda)"
  }
 },
 "nbformat": 4,
 "nbformat_minor": 2,
 "cells": [
  {
   "cell_type": "code",
   "execution_count": 1,
   "metadata": {},
   "outputs": [],
   "source": [
    "\n",
    "# This notebook will contain some various exerceses that I did to practice Python. \n"
   ]
  },
  {
   "cell_type": "code",
   "execution_count": 2,
   "metadata": {},
   "outputs": [],
   "source": [
    "# 1. \n",
    "# Generate a guess"
   ]
  },
  {
   "cell_type": "code",
   "execution_count": 41,
   "metadata": {},
   "outputs": [],
   "source": [
    "\n",
    "import random\n",
    "\n",
    "geneSet = \" abcdefghijklmnopqrstuvwxyzABCDEFGHIJKLMNOPQRSTUVWXYZ!.\"\n",
    "target = \"Hello World!\"\n",
    "\n",
    "\n",
    "\n",
    "def generateGenes(length):\n",
    "    genes = list()\n",
    "    while len(genes) < length:\n",
    "        sample_size = min(length - len(genes), len(geneSet))\n",
    "        print(sample_size, len(genes), len(geneSet))\n",
    "        genes.extend(random.sample(geneSet, sample_size))\n",
    "    print(sample_size, len(genes), len(geneSet))\n",
    "    return ''.join(genes)\n",
    "\n",
    "def getFitness(guess):\n",
    "    return sum(1 for expected, actual in zip(target, guess) if expected == actual )\n",
    "    \n"
   ]
  },
  {
   "cell_type": "code",
   "execution_count": 16,
   "metadata": {},
   "outputs": [
    {
     "output_type": "stream",
     "name": "stdout",
     "text": [
      "4 0 55\n4 4 55\ntxch\n"
     ]
    }
   ],
   "source": [
    "print(generateGenes(4))"
   ]
  },
  {
   "cell_type": "code",
   "execution_count": 42,
   "metadata": {},
   "outputs": [
    {
     "output_type": "stream",
     "name": "stdout",
     "text": [
      "3\n"
     ]
    }
   ],
   "source": [
    "print(getFitness('Heggoo'))"
   ]
  },
  {
   "cell_type": "code",
   "execution_count": null,
   "metadata": {},
   "outputs": [],
   "source": []
  }
 ]
}