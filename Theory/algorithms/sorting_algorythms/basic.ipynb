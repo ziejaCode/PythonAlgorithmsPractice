{
 "metadata": {
  "language_info": {
   "codemirror_mode": {
    "name": "ipython",
    "version": 3
   },
   "file_extension": ".py",
   "mimetype": "text/x-python",
   "name": "python",
   "nbconvert_exporter": "python",
   "pygments_lexer": "ipython3",
   "version": "3.7.6"
  },
  "orig_nbformat": 2,
  "kernelspec": {
   "name": "python376jvsc74a57bd0ef6158b8f70acb55f14e9e8900390c101c5e76b0b37a2fa3a79ca4e7b97b63bf",
   "display_name": "Python 3.7.6 64-bit ('base': conda)"
  }
 },
 "nbformat": 4,
 "nbformat_minor": 2,
 "cells": [
  {
   "cell_type": "code",
   "execution_count": 8,
   "metadata": {},
   "outputs": [
    {
     "output_type": "stream",
     "name": "stdout",
     "text": [
      "[10, 6, 5, 3, 2]\n"
     ]
    }
   ],
   "source": [
    "# basic selection sort implementation\n",
    "\n",
    "def findSmallest(arr):\n",
    "  smallest = arr[0] # Stores the smallest value \n",
    "  smallest_index = 0 #  Stores the index of the smallest value\n",
    "  for i in range(1, len(arr)):\n",
    "    if arr[i] > smallest:\n",
    "      smallest = arr[i]\n",
    "      smallest_index = i\n",
    "  return smallest_index\n",
    "\n",
    "def selectionSort(arr):  #  Sorts an array\n",
    "  newArr = []\n",
    "  for i in range(len(arr)):\n",
    "      smallest = findSmallest(arr)\n",
    "      newArr.append(arr.pop(smallest))\n",
    "  return newArr\n",
    "\n",
    "print(selectionSort([5, 3, 6, 2, 10]))"
   ]
  },
  {
   "cell_type": "code",
   "execution_count": null,
   "metadata": {},
   "outputs": [],
   "source": []
  }
 ]
}