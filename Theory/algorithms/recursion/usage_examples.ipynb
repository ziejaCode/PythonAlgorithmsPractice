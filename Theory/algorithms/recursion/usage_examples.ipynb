{
 "metadata": {
  "language_info": {
   "codemirror_mode": {
    "name": "ipython",
    "version": 3
   },
   "file_extension": ".py",
   "mimetype": "text/x-python",
   "name": "python",
   "nbconvert_exporter": "python",
   "pygments_lexer": "ipython3",
   "version": "3.7.6"
  },
  "orig_nbformat": 2,
  "kernelspec": {
   "name": "python376jvsc74a57bd0ef6158b8f70acb55f14e9e8900390c101c5e76b0b37a2fa3a79ca4e7b97b63bf",
   "display_name": "Python 3.7.6 64-bit ('base': conda)"
  }
 },
 "nbformat": 4,
 "nbformat_minor": 2,
 "cells": [
  {
   "cell_type": "code",
   "execution_count": 1,
   "metadata": {},
   "outputs": [
    {
     "output_type": "stream",
     "name": "stdout",
     "text": [
      "5\n4\n3\n2\n1\n"
     ]
    },
    {
     "output_type": "execute_result",
     "data": {
      "text/plain": [
       "0"
      ]
     },
     "metadata": {},
     "execution_count": 1
    }
   ],
   "source": [
    "\"\"\" a few ways how to eficiently use reccursion \"\"\"\n",
    "\n",
    "def countdown(i):\n",
    "  # base case\n",
    "  if i <= 0:\n",
    "    return 0\n",
    "  # recursive case\n",
    "  else:\n",
    "    print(i)\n",
    "    return countdown(i-1)\n",
    "\n",
    "countdown(5)\n"
   ]
  },
  {
   "cell_type": "code",
   "execution_count": 15,
   "metadata": {},
   "outputs": [
    {
     "output_type": "stream",
     "name": "stdout",
     "text": [
      "5 4\n4 3\n3 2\n2 1\n120\n"
     ]
    }
   ],
   "source": [
    "# implementing factorial function\n",
    "\n",
    "def fact(x):\n",
    "  if x == 1:\n",
    "    return 1\n",
    "  else:\n",
    "    print(x, x - 1)\n",
    "    return x * fact(x-1)\n",
    "\n",
    "print(fact(5))\n"
   ]
  },
  {
   "cell_type": "code",
   "execution_count": 10,
   "metadata": {},
   "outputs": [
    {
     "output_type": "execute_result",
     "data": {
      "text/plain": [
       "list"
      ]
     },
     "metadata": {},
     "execution_count": 10
    }
   ],
   "source": [
    "\n",
    "\n",
    "def count(arr):\n",
    "    if not arr:\n",
    "        return 0\n",
    "    return 1 + count(arr[1:])\n",
    "\n",
    "a = [3,5,6,7,9]\n",
    "count(a)\n",
    "type(a)"
   ]
  },
  {
   "cell_type": "code",
   "execution_count": 12,
   "metadata": {},
   "outputs": [
    {
     "output_type": "execute_result",
     "data": {
      "text/plain": [
       "4"
      ]
     },
     "metadata": {},
     "execution_count": 12
    }
   ],
   "source": [
    "# this is recursion version of binary search\n",
    "\n",
    "def binary_search(arr, target):\n",
    "    if not arr:\n",
    "        return -1        \n",
    "    if len(arr) == 1 and arr[0] == target:\n",
    "        return arr[0]\n",
    "    if len(arr) == 1 and arr[0] != target:\n",
    "        return -1\n",
    "    low = 0         \n",
    "    high = len(arr) - 1    \n",
    "    mid = (low + high) // 2\n",
    "\n",
    "    if arr[mid] > target:\n",
    "        return binary_search(arr[:mid], target)\n",
    "    else:\n",
    "        return binary_search(arr[mid+1:], target)\n",
    "\n",
    "binary_search([3,4,6,8,9], 4)"
   ]
  },
  {
   "cell_type": "code",
   "execution_count": 13,
   "metadata": {},
   "outputs": [
    {
     "output_type": "execute_result",
     "data": {
      "text/plain": [
       "78"
      ]
     },
     "metadata": {},
     "execution_count": 13
    }
   ],
   "source": [
    "# finding max valule\n",
    "\n",
    "def find_max(arr):\n",
    "    if len(arr) == 2:\n",
    "        return arr[0] if arr[0] > arr[1] else arr[1]\n",
    "    sub_max = find_max(arr[1:])\n",
    "    return arr[0] if arr[0] > sub_max else sub_max\n",
    "\n",
    "find_max([3,4,6,8,9])"
   ]
  },
  {
   "cell_type": "code",
   "execution_count": 14,
   "metadata": {},
   "outputs": [
    {
     "output_type": "execute_result",
     "data": {
      "text/plain": [
       "30"
      ]
     },
     "metadata": {},
     "execution_count": 14
    }
   ],
   "source": [
    "# suming all elements\n",
    "\n",
    "def sum_array(arr):\n",
    "    if not arr:\n",
    "        return 0\n",
    "    return arr[0] + sum_array(arr[1:])\n",
    "\n",
    "sum_array([3,4,6,8,9])"
   ]
  },
  {
   "cell_type": "code",
   "execution_count": 19,
   "metadata": {},
   "outputs": [
    {
     "output_type": "error",
     "ename": "SyntaxError",
     "evalue": "invalid syntax (<ipython-input-19-350a26672962>, line 2)",
     "traceback": [
      "\u001b[1;36m  File \u001b[1;32m\"<ipython-input-19-350a26672962>\"\u001b[1;36m, line \u001b[1;32m2\u001b[0m\n\u001b[1;33m    return [x+=x for i in arr]\u001b[0m\n\u001b[1;37m              ^\u001b[0m\n\u001b[1;31mSyntaxError\u001b[0m\u001b[1;31m:\u001b[0m invalid syntax\n"
     ]
    }
   ],
   "source": [
    "def sum_list_comprehension(arr):\n",
    "    return [x+=x for i in arr] # fix this list comprehension\n",
    "\n",
    "sum_list_comprehension([2,4,6])\n"
   ]
  },
  {
   "cell_type": "code",
   "execution_count": null,
   "metadata": {},
   "outputs": [],
   "source": []
  }
 ]
}